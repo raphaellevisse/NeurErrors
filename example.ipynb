{
 "cells": [
  {
   "cell_type": "markdown",
   "metadata": {},
   "source": [
    "# Accessing segmentation errors with NeurErrors\n",
    "\n",
    "This tutorial provides a high-level overview for how to access FlyWire's error dataset on top of CAVEclient built from [connectome annotation versioning engine](https://www.biorxiv.org/content/10.1101/2023.07.26.550598v1.abstract).\n",
    "\n",
    "CAVE supports proofreading of datasets and their analysis even while proofreading is ongoing.\n",
    "\n",
    "NeurErrors is a Python package that allows you to visualize and analyze the errors found by the proofreaders in the segmented connectome. One part is data acquisition of found errors for any segment ID in time. The other part focuses on building a graph dataset at the L2 resolution of the chunked graph and associating error coordinates to each node of the graph for Graph Machine Learning.\n"
   ]
  },
  {
   "cell_type": "markdown",
   "metadata": {},
   "source": [
    "To install NeurErrors, you can use the following command:\n",
    "\n",
    "`pip install https://github.com/raphael-levisse/neurerrors.git`\n",
    "\n",
    "Inside a notebook, you can import NeurErrors with the following command:"
   ]
  },
  {
   "cell_type": "code",
   "execution_count": null,
   "metadata": {},
   "outputs": [],
   "source": [
    "!pip install *****"
   ]
  },
  {
   "cell_type": "markdown",
   "metadata": {},
   "source": [
    "and imported like this:"
   ]
  },
  {
   "cell_type": "code",
   "execution_count": 1,
   "metadata": {},
   "outputs": [],
   "source": [
    "import neurerrors"
   ]
  },
  {
   "cell_type": "markdown",
   "metadata": {},
   "source": [
    "Make sure you have an account on CaveClient which is core to the NeurErrors package and allows you to access and query the chunked graph. Here is the link to the [CaveClient tutorial](https://github.com/seung-lab/FlyConnectome/blob/main/CAVE%20tutorial.ipynb)."
   ]
  },
  {
   "cell_type": "markdown",
   "metadata": {},
   "source": [
    "Let's start by importing the necessary libraries:"
   ]
  },
  {
   "cell_type": "code",
   "execution_count": 2,
   "metadata": {},
   "outputs": [],
   "source": [
    "import caveclient\n",
    "import numpy as np\n",
    "import torch\n",
    "import torch_geometric\n",
    "import tqdm\n",
    "import pandas"
   ]
  },
  {
   "cell_type": "markdown",
   "metadata": {},
   "source": [
    "We then start a session with the CAVEclient and we will use the `Dataset_Client` class to build the error and the graph dataset associated. Both can be independently built."
   ]
  },
  {
   "cell_type": "code",
   "execution_count": 5,
   "metadata": {},
   "outputs": [],
   "source": [
    "### Caveclient initialization ###\n",
    "datastack_name = \"flywire_fafb_public\"\n",
    "voxel_resolution = np.array([16,16,40])\n",
    "\n",
    "client = caveclient.CAVEclient(datastack_name)\n",
    "#client.materialize.version = 783 # FlyWire public version\n"
   ]
  },
  {
   "cell_type": "markdown",
   "metadata": {},
   "source": [
    "NeurErrors Dataset Client initialization (client is optional if you want to use the other functions of the Dataset_Client class)"
   ]
  },
  {
   "cell_type": "code",
   "execution_count": 6,
   "metadata": {},
   "outputs": [],
   "source": [
    "dataset_client = neurerrors.Dataset_Client(client)"
   ]
  },
  {
   "cell_type": "markdown",
   "metadata": {},
   "source": [
    "Optional:\n",
    "Generally, one has a .txt file of the segment IDs he wants to verify. One function of the `Dataset_Client` class is to build the old segment IDs from this file.\n",
    "This will return a dictionary of the root segment IDs and the list of old segment IDs associated to each root segment ID. The minimum size of the segment to be considered is set to 10 L2 leaves (argument `min_l2_size`). "
   ]
  },
  {
   "cell_type": "code",
   "execution_count": null,
   "metadata": {},
   "outputs": [],
   "source": [
    "input_path = 'your/path/to/seg_ids.txt'\n",
    "root_to_old_seg_ids, old_seg_ids = dataset_client.get_old_seg_ids_from_txt_file(input_path, min_l2_size=10, show_progress=True)"
   ]
  },
  {
   "cell_type": "markdown",
   "metadata": {},
   "source": [
    "To build the graph dataset as a list of PyTorch Geometric Data objects, one can use the following function and build the feature list of the dataset."
   ]
  },
  {
   "cell_type": "code",
   "execution_count": 7,
   "metadata": {},
   "outputs": [
    {
     "name": "stderr",
     "output_type": "stream",
     "text": [
      "Building L2 graphs: 100%|██████████| 4/4 [00:02<00:00,  1.34ID/s]\n"
     ]
    }
   ],
   "source": [
    "old_seg_ids = [720575940624605639, 720575940621549138, 720575940630876760, 720575940612108494] # Example of old segment IDs corresponding to the current root segment ID=720575940612108494\n",
    "\n",
    "attributes_list = ['rep_coord_nm', 'size_nm3', 'area_nm2', 'max_dt_nm', 'mean_dt_nm', 'pca_val']\n",
    "graph_dataset = dataset_client.build_graph_dataset(old_seg_ids, attributes_list, show_progress=True, verbose=False)"
   ]
  },
  {
   "cell_type": "markdown",
   "metadata": {},
   "source": [
    "This graph dataset is just a list of Data objects of the neurons as graphs of L2 nodes. We can add the error features to the dataset by making a forward pass in the graph of operations.\n",
    "associate_error_to_graph_dataset will find all proofreading actions on the neuron, find their amplitude and assimilate them to the closest L2 node in the graph."
   ]
  },
  {
   "cell_type": "code",
   "execution_count": 8,
   "metadata": {},
   "outputs": [
    {
     "name": "stderr",
     "output_type": "stream",
     "text": [
      "Finding errors and associating them to graphs: 100%|██████████| 4/4 [00:16<00:00,  4.15s/graph, seg_id=7.21e+17]\n"
     ]
    },
    {
     "data": {
      "text/plain": [
       "[Data(\n",
       "   x=[218, 10],\n",
       "   edge_index=[2, 510],\n",
       "   l2_nodes=[218],\n",
       "   metadata={ seg_id=720575940624605639 },\n",
       "   l2_error_weights=[218, 1],\n",
       "   error_features=[50, 6]\n",
       " ),\n",
       " Data(\n",
       "   x=[392, 10],\n",
       "   edge_index=[2, 930],\n",
       "   l2_nodes=[392],\n",
       "   metadata={ seg_id=720575940621549138 },\n",
       "   l2_error_weights=[392, 1],\n",
       "   error_features=[49, 6]\n",
       " ),\n",
       " Data(\n",
       "   x=[31, 10],\n",
       "   edge_index=[2, 66],\n",
       "   l2_nodes=[31],\n",
       "   metadata={ seg_id=720575940630876760 },\n",
       "   l2_error_weights=[31, 1],\n",
       "   error_features=[16, 6]\n",
       " ),\n",
       " Data(\n",
       "   x=[43, 10],\n",
       "   edge_index=[2, 98],\n",
       "   l2_nodes=[43],\n",
       "   metadata={ seg_id=720575940612108494 },\n",
       "   l2_error_weights=[43, 1],\n",
       "   error_features=[0]\n",
       " )]"
      ]
     },
     "execution_count": 8,
     "metadata": {},
     "output_type": "execute_result"
    }
   ],
   "source": [
    "dataset_client.associate_error_to_graph_dataset(graph_dataset, voxel_resolution=voxel_resolution, show_progress=True)\n",
    "#dataset_client.normalize_features(graph_dataset) #if you want to normalize the features for more stable training, normalizes data.x (features) to have a mean of 0 and a std of 1."
   ]
  },
  {
   "cell_type": "markdown",
   "metadata": {},
   "source": [
    "We can now visualize the dataset with the following functions."
   ]
  },
  {
   "cell_type": "code",
   "execution_count": 12,
   "metadata": {},
   "outputs": [
    {
     "name": "stdout",
     "output_type": "stream",
     "text": [
      "http://localhost:8000/client/#!%7B%22dimensions%22%3A%20%7B%22x%22%3A%20%5B1.6e-08%2C%20%22m%22%5D%2C%20%22y%22%3A%20%5B1.6e-08%2C%20%22m%22%5D%2C%20%22z%22%3A%20%5B4e-08%2C%20%22m%22%5D%7D%2C%20%22layers%22%3A%20%5B%7B%22source%22%3A%20%22precomputed%3A//https%3A//bossdb-open-data.s3.amazonaws.com/flywire/fafbv14%22%2C%20%22type%22%3A%20%22image%22%2C%20%22tab%22%3A%20%22source%22%2C%20%22name%22%3A%20%22EM-image%22%7D%2C%20%7B%22tab%22%3A%20%22segments%22%2C%20%22source%22%3A%20%22graphene%3A//middleauth%2Bhttps%3A//prodv1.flywire-daf.com/segmentation/1.0/flywire_public%22%2C%20%22type%22%3A%20%22segmentation%22%2C%20%22segments%22%3A%20%5B%22720575940624605639%22%5D%2C%20%22colorSeed%22%3A%20883605311%2C%20%22name%22%3A%20%22Segmentation%22%7D%2C%20%7B%22tool%22%3A%20%22annotatePoint%22%2C%20%22type%22%3A%20%22annotation%22%2C%20%22transform%22%3A%20%7B%22outputDimensions%22%3A%20%7B%22x%22%3A%20%5B1.8e-08%2C%20%22m%22%5D%2C%20%22y%22%3A%20%5B1.8e-08%2C%20%22m%22%5D%2C%20%22z%22%3A%20%5B4.5e-08%2C%20%22m%22%5D%7D%2C%20%22inputDimensions%22%3A%20%7B%220%22%3A%20%5B1.6e-08%2C%20%22m%22%5D%2C%20%221%22%3A%20%5B1.6e-08%2C%20%22m%22%5D%2C%20%222%22%3A%20%5B4e-08%2C%20%22m%22%5D%7D%7D%2C%20%22annotations%22%3A%20%5B%7B%22point%22%3A%20%5B843472.0%2C%20186544.0%2C%20148400.0%5D%2C%20%22type%22%3A%20%22point%22%2C%20%22id%22%3A%20%22annotation_0%22%7D%2C%20%7B%22point%22%3A%20%5B846112.0%2C%20186792.0%2C%20144960.0%5D%2C%20%22type%22%3A%20%22point%22%2C%20%22id%22%3A%20%22annotation_1%22%7D%2C%20%7B%22point%22%3A%20%5B845392.0%2C%20187648.0%2C%20145680.0%5D%2C%20%22type%22%3A%20%22point%22%2C%20%22id%22%3A%20%22annotation_2%22%7D%2C%20%7B%22point%22%3A%20%5B841808.0%2C%20199944.0%2C%20150940.0%5D%2C%20%22type%22%3A%20%22point%22%2C%20%22id%22%3A%20%22annotation_3%22%7D%2C%20%7B%22point%22%3A%20%5B847592.0%2C%20192336.0%2C%20148880.0%5D%2C%20%22type%22%3A%20%22point%22%2C%20%22id%22%3A%20%22annotation_4%22%7D%2C%20%7B%22point%22%3A%20%5B847896.0%2C%20193344.0%2C%20149160.0%5D%2C%20%22type%22%3A%20%22point%22%2C%20%22id%22%3A%20%22annotation_5%22%7D%2C%20%7B%22point%22%3A%20%5B843872.0%2C%20199208.0%2C%20150980.0%5D%2C%20%22type%22%3A%20%22point%22%2C%20%22id%22%3A%20%22annotation_6%22%7D%2C%20%7B%22point%22%3A%20%5B845432.0%2C%20190512.0%2C%20150920.0%5D%2C%20%22type%22%3A%20%22point%22%2C%20%22id%22%3A%20%22annotation_7%22%7D%2C%20%7B%22point%22%3A%20%5B844480.0%2C%20193680.0%2C%20151520.0%5D%2C%20%22type%22%3A%20%22point%22%2C%20%22id%22%3A%20%22annotation_8%22%7D%2C%20%7B%22point%22%3A%20%5B841512.0%2C%20196744.0%2C%20152200.0%5D%2C%20%22type%22%3A%20%22point%22%2C%20%22id%22%3A%20%22annotation_9%22%7D%2C%20%7B%22point%22%3A%20%5B844320.0%2C%20188544.0%2C%20151600.0%5D%2C%20%22type%22%3A%20%22point%22%2C%20%22id%22%3A%20%22annotation_10%22%7D%2C%20%7B%22point%22%3A%20%5B843384.0%2C%20191152.0%2C%20152360.0%5D%2C%20%22type%22%3A%20%22point%22%2C%20%22id%22%3A%20%22annotation_11%22%7D%2C%20%7B%22point%22%3A%20%5B839024.0%2C%20194728.0%2C%20151520.0%5D%2C%20%22type%22%3A%20%22point%22%2C%20%22id%22%3A%20%22annotation_12%22%7D%2C%20%7B%22point%22%3A%20%5B840512.0%2C%20182712.0%2C%20144860.0%5D%2C%20%22type%22%3A%20%22point%22%2C%20%22id%22%3A%20%22annotation_13%22%7D%2C%20%7B%22point%22%3A%20%5B840064.0%2C%20195664.0%2C%20152560.0%5D%2C%20%22type%22%3A%20%22point%22%2C%20%22id%22%3A%20%22annotation_14%22%7D%2C%20%7B%22point%22%3A%20%5B838520.0%2C%20196688.0%2C%20152760.0%5D%2C%20%22type%22%3A%20%22point%22%2C%20%22id%22%3A%20%22annotation_15%22%7D%2C%20%7B%22point%22%3A%20%5B846312.0%2C%20190528.0%2C%20148680.0%5D%2C%20%22type%22%3A%20%22point%22%2C%20%22id%22%3A%20%22annotation_16%22%7D%2C%20%7B%22point%22%3A%20%5B845280.0%2C%20193488.0%2C%20149560.0%5D%2C%20%22type%22%3A%20%22point%22%2C%20%22id%22%3A%20%22annotation_17%22%7D%2C%20%7B%22point%22%3A%20%5B846112.0%2C%20180640.0%2C%20151680.0%5D%2C%20%22type%22%3A%20%22point%22%2C%20%22id%22%3A%20%22annotation_18%22%7D%2C%20%7B%22point%22%3A%20%5B831680.0%2C%20204584.0%2C%20154400.0%5D%2C%20%22type%22%3A%20%22point%22%2C%20%22id%22%3A%20%22annotation_19%22%7D%2C%20%7B%22point%22%3A%20%5B849096.0%2C%20194544.0%2C%20149160.0%5D%2C%20%22type%22%3A%20%22point%22%2C%20%22id%22%3A%20%22annotation_20%22%7D%2C%20%7B%22point%22%3A%20%5B845616.0%2C%20193912.0%2C%20149980.0%5D%2C%20%22type%22%3A%20%22point%22%2C%20%22id%22%3A%20%22annotation_21%22%7D%2C%20%7B%22point%22%3A%20%5B836112.0%2C%20194720.0%2C%20153840.0%5D%2C%20%22type%22%3A%20%22point%22%2C%20%22id%22%3A%20%22annotation_22%22%7D%2C%20%7B%22point%22%3A%20%5B846256.0%2C%20182664.0%2C%20143880.0%5D%2C%20%22type%22%3A%20%22point%22%2C%20%22id%22%3A%20%22annotation_23%22%7D%5D%2C%20%22tab%22%3A%20%22annotations%22%2C%20%22name%22%3A%20%22Merge%22%2C%20%22annotationColor%22%3A%20%22%2300FF00%22%7D%2C%20%7B%22tool%22%3A%20%22annotatePoint%22%2C%20%22type%22%3A%20%22annotation%22%2C%20%22transform%22%3A%20%7B%22outputDimensions%22%3A%20%7B%22x%22%3A%20%5B1.8e-08%2C%20%22m%22%5D%2C%20%22y%22%3A%20%5B1.8e-08%2C%20%22m%22%5D%2C%20%22z%22%3A%20%5B4.5e-08%2C%20%22m%22%5D%7D%2C%20%22inputDimensions%22%3A%20%7B%220%22%3A%20%5B1.6e-08%2C%20%22m%22%5D%2C%20%221%22%3A%20%5B1.6e-08%2C%20%22m%22%5D%2C%20%222%22%3A%20%5B4e-08%2C%20%22m%22%5D%7D%7D%2C%20%22annotations%22%3A%20%5B%7B%22point%22%3A%20%5B848551.4375%2C%20193365.59375%2C%20148800.0%5D%2C%20%22type%22%3A%20%22point%22%2C%20%22id%22%3A%20%22annotation_0%22%7D%2C%20%7B%22point%22%3A%20%5B848145.25%2C%20192233.953125%2C%20149120.0%5D%2C%20%22type%22%3A%20%22point%22%2C%20%22id%22%3A%20%22annotation_1%22%7D%2C%20%7B%22point%22%3A%20%5B856952.0%2C%20181472.0%2C%20149040.0%5D%2C%20%22type%22%3A%20%22point%22%2C%20%22id%22%3A%20%22annotation_2%22%7D%2C%20%7B%22point%22%3A%20%5B844025.9375%2C%20191689.671875%2C%20151480.0%5D%2C%20%22type%22%3A%20%22point%22%2C%20%22id%22%3A%20%22annotation_3%22%7D%2C%20%7B%22point%22%3A%20%5B843264.3125%2C%20199502.671875%2C%20150780.0%5D%2C%20%22type%22%3A%20%22point%22%2C%20%22id%22%3A%20%22annotation_4%22%7D%2C%20%7B%22point%22%3A%20%5B842219.625%2C%20192792.40625%2C%20152680.0%5D%2C%20%22type%22%3A%20%22point%22%2C%20%22id%22%3A%20%22annotation_5%22%7D%2C%20%7B%22point%22%3A%20%5B843575.75%2C%20195545.328125%2C%20151760.0%5D%2C%20%22type%22%3A%20%22point%22%2C%20%22id%22%3A%20%22annotation_6%22%7D%2C%20%7B%22point%22%3A%20%5B835709.625%2C%20197583.203125%2C%20152929.5%5D%2C%20%22type%22%3A%20%22point%22%2C%20%22id%22%3A%20%22annotation_7%22%7D%2C%20%7B%22point%22%3A%20%5B843261.625%2C%20189868.171875%2C%20152280.0%5D%2C%20%22type%22%3A%20%22point%22%2C%20%22id%22%3A%20%22annotation_8%22%7D%2C%20%7B%22point%22%3A%20%5B842138.6875%2C%20183274.671875%2C%20145513.328125%5D%2C%20%22type%22%3A%20%22point%22%2C%20%22id%22%3A%20%22annotation_9%22%7D%2C%20%7B%22point%22%3A%20%5B836558.6875%2C%20196317.78125%2C%20152885.5625%5D%2C%20%22type%22%3A%20%22point%22%2C%20%22id%22%3A%20%22annotation_10%22%7D%2C%20%7B%22point%22%3A%20%5B845989.375%2C%20191477.296875%2C%20149409.234375%5D%2C%20%22type%22%3A%20%22point%22%2C%20%22id%22%3A%20%22annotation_11%22%7D%2C%20%7B%22point%22%3A%20%5B847494.6875%2C%20188519.125%2C%20148342.03125%5D%2C%20%22type%22%3A%20%22point%22%2C%20%22id%22%3A%20%22annotation_12%22%7D%2C%20%7B%22point%22%3A%20%5B842233.5%2C%20192824.96875%2C%20151074.28125%5D%2C%20%22type%22%3A%20%22point%22%2C%20%22id%22%3A%20%22annotation_13%22%7D%2C%20%7B%22point%22%3A%20%5B838609.375%2C%20195644.15625%2C%20151640.0%5D%2C%20%22type%22%3A%20%22point%22%2C%20%22id%22%3A%20%22annotation_14%22%7D%2C%20%7B%22point%22%3A%20%5B845330.25%2C%20180862.671875%2C%20151400.0%5D%2C%20%22type%22%3A%20%22point%22%2C%20%22id%22%3A%20%22annotation_15%22%7D%2C%20%7B%22point%22%3A%20%5B845243.4375%2C%20180941.0625%2C%20151600.0%5D%2C%20%22type%22%3A%20%22point%22%2C%20%22id%22%3A%20%22annotation_16%22%7D%2C%20%7B%22point%22%3A%20%5B849407.1875%2C%20190553.859375%2C%20148864.671875%5D%2C%20%22type%22%3A%20%22point%22%2C%20%22id%22%3A%20%22annotation_17%22%7D%2C%20%7B%22point%22%3A%20%5B844730.6875%2C%20193176.0%2C%20149100.0%5D%2C%20%22type%22%3A%20%22point%22%2C%20%22id%22%3A%20%22annotation_18%22%7D%2C%20%7B%22point%22%3A%20%5B846078.3125%2C%20188432.796875%2C%20148120.0%5D%2C%20%22type%22%3A%20%22point%22%2C%20%22id%22%3A%20%22annotation_19%22%7D%2C%20%7B%22point%22%3A%20%5B847074.9375%2C%20187739.734375%2C%20148120.0%5D%2C%20%22type%22%3A%20%22point%22%2C%20%22id%22%3A%20%22annotation_20%22%7D%2C%20%7B%22point%22%3A%20%5B848226.6875%2C%20185517.328125%2C%20146600.0%5D%2C%20%22type%22%3A%20%22point%22%2C%20%22id%22%3A%20%22annotation_21%22%7D%2C%20%7B%22point%22%3A%20%5B846508.375%2C%20188241.453125%2C%20147023.640625%5D%2C%20%22type%22%3A%20%22point%22%2C%20%22id%22%3A%20%22annotation_22%22%7D%2C%20%7B%22point%22%3A%20%5B835814.25%2C%20195491.109375%2C%20153773.328125%5D%2C%20%22type%22%3A%20%22point%22%2C%20%22id%22%3A%20%22annotation_23%22%7D%2C%20%7B%22point%22%3A%20%5B844552.0%2C%20200416.796875%2C%20150160.0%5D%2C%20%22type%22%3A%20%22point%22%2C%20%22id%22%3A%20%22annotation_24%22%7D%2C%20%7B%22point%22%3A%20%5B844398.0%2C%20200654.28125%2C%20149877.859375%5D%2C%20%22type%22%3A%20%22point%22%2C%20%22id%22%3A%20%22annotation_25%22%7D%5D%2C%20%22tab%22%3A%20%22annotations%22%2C%20%22name%22%3A%20%22Split%22%2C%20%22annotationColor%22%3A%20%22%23FF0000%22%7D%5D%2C%20%22position%22%3A%20%5B53034.46484375%2C%2012085.349609375%2C%203720.0%5D%2C%20%22showDefaultAnnotations%22%3A%20false%2C%20%22perspectiveOrientation%22%3A%20%5B0%2C%200%2C%200%2C%201%5D%2C%20%22projectionScale%22%3A%201500%2C%20%22crossSectionScale%22%3A%200.5%2C%20%22jsonStateServer%22%3A%20%22https%3A//globalv1.flywire-daf.com/nglstate/post%22%2C%20%22selectedLayer%22%3A%20%7B%22layer%22%3A%20%22annotation%22%2C%20%22visible%22%3A%20true%7D%2C%20%22layout%22%3A%20%22xy-3d%22%7D\n",
      "tensor([[8.4855e+05, 1.9337e+05, 1.4880e+05, 1.0000e+00, 2.0000e+00, 2.8805e+06],\n",
      "        [8.4815e+05, 1.9223e+05, 1.4912e+05, 1.0000e+00, 4.4000e+01, 2.8805e+06],\n",
      "        [8.5695e+05, 1.8147e+05, 1.4904e+05, 1.0000e+00, 1.0000e+00, 2.8816e+06],\n",
      "        [8.4347e+05, 1.8654e+05, 1.4840e+05, 0.0000e+00, 1.0000e+00, 2.8816e+06],\n",
      "        [8.4611e+05, 1.8679e+05, 1.4496e+05, 0.0000e+00, 1.0000e+00, 2.7664e+06],\n",
      "        [8.4539e+05, 1.8765e+05, 1.4568e+05, 0.0000e+00, 2.0000e+00, 2.7664e+06],\n",
      "        [8.4403e+05, 1.9169e+05, 1.5148e+05, 1.0000e+00, 7.0000e+00, 2.8146e+06],\n",
      "        [8.4181e+05, 1.9994e+05, 1.5094e+05, 0.0000e+00, 3.5000e+01, 2.8812e+06],\n",
      "        [8.4326e+05, 1.9950e+05, 1.5078e+05, 1.0000e+00, 5.0000e+00, 2.8811e+06],\n",
      "        [8.4222e+05, 1.9279e+05, 1.5268e+05, 1.0000e+00, 3.0000e+00, 2.8146e+06],\n",
      "        [8.4358e+05, 1.9555e+05, 1.5176e+05, 1.0000e+00, 1.0000e+01, 2.8146e+06],\n",
      "        [8.4759e+05, 1.9234e+05, 1.4888e+05, 0.0000e+00, 2.0000e+00, 2.8812e+06],\n",
      "        [8.4790e+05, 1.9334e+05, 1.4916e+05, 0.0000e+00, 2.0000e+01, 2.8812e+06],\n",
      "        [8.4387e+05, 1.9921e+05, 1.5098e+05, 0.0000e+00, 6.0000e+00, 2.8812e+06],\n",
      "        [8.4543e+05, 1.9051e+05, 1.5092e+05, 0.0000e+00, 4.0000e+00, 2.8146e+06],\n",
      "        [8.4448e+05, 1.9368e+05, 1.5152e+05, 0.0000e+00, 2.0000e+00, 2.8146e+06],\n",
      "        [8.3571e+05, 1.9758e+05, 1.5293e+05, 1.0000e+00, 4.0000e+00, 2.8146e+06],\n",
      "        [8.4151e+05, 1.9674e+05, 1.5220e+05, 0.0000e+00, 1.5000e+01, 2.8146e+06],\n",
      "        [8.4326e+05, 1.8987e+05, 1.5228e+05, 1.0000e+00, 1.3000e+01, 2.8146e+06],\n",
      "        [8.4432e+05, 1.8854e+05, 1.5160e+05, 0.0000e+00, 4.0000e+00, 2.8146e+06],\n",
      "        [8.4214e+05, 1.8327e+05, 1.4551e+05, 1.0000e+00, 2.0000e+00, 2.7665e+06],\n",
      "        [8.4338e+05, 1.9115e+05, 1.5236e+05, 0.0000e+00, 4.2000e+01, 2.8146e+06],\n",
      "        [8.3656e+05, 1.9632e+05, 1.5289e+05, 1.0000e+00, 4.0000e+00, 2.8146e+06],\n",
      "        [8.4599e+05, 1.9148e+05, 1.4941e+05, 1.0000e+00, 2.0000e+00, 2.8147e+06],\n",
      "        [8.4749e+05, 1.8852e+05, 1.4834e+05, 1.0000e+00, 3.0000e+00, 2.8147e+06],\n",
      "        [8.4223e+05, 1.9282e+05, 1.5107e+05, 1.0000e+00, 2.2000e+01, 2.8147e+06],\n",
      "        [8.3861e+05, 1.9564e+05, 1.5164e+05, 1.0000e+00, 3.2000e+01, 2.8147e+06],\n",
      "        [8.3902e+05, 1.9473e+05, 1.5152e+05, 0.0000e+00, 8.0000e+00, 2.8147e+06],\n",
      "        [8.4051e+05, 1.8271e+05, 1.4486e+05, 0.0000e+00, 1.0000e+00, 2.7666e+06],\n",
      "        [8.4006e+05, 1.9566e+05, 1.5256e+05, 0.0000e+00, 5.0000e+00, 2.8148e+06],\n",
      "        [8.3852e+05, 1.9669e+05, 1.5276e+05, 0.0000e+00, 2.0000e+00, 2.8148e+06],\n",
      "        [8.4631e+05, 1.9053e+05, 1.4868e+05, 0.0000e+00, 4.0000e+00, 2.8148e+06],\n",
      "        [8.4528e+05, 1.9349e+05, 1.4956e+05, 0.0000e+00, 2.2000e+01, 2.8148e+06],\n",
      "        [8.4533e+05, 1.8086e+05, 1.5140e+05, 1.0000e+00, 8.0000e+00, 2.8149e+06],\n",
      "        [8.4524e+05, 1.8094e+05, 1.5160e+05, 1.0000e+00, 1.0000e+00, 2.8149e+06],\n",
      "        [8.4611e+05, 1.8064e+05, 1.5168e+05, 0.0000e+00, 1.0000e+00, 2.8149e+06],\n",
      "        [8.4941e+05, 1.9055e+05, 1.4886e+05, 1.0000e+00, 4.3000e+01, 2.9460e+06],\n",
      "        [8.3168e+05, 2.0458e+05, 1.5440e+05, 0.0000e+00, 2.0000e+00, 2.9460e+06],\n",
      "        [8.4473e+05, 1.9318e+05, 1.4910e+05, 1.0000e+00, 4.0000e+00, 2.8805e+06],\n",
      "        [8.4910e+05, 1.9454e+05, 1.4916e+05, 0.0000e+00, 2.0000e+00, 2.9460e+06],\n",
      "        [8.4608e+05, 1.8843e+05, 1.4812e+05, 1.0000e+00, 2.1000e+01, 2.8805e+06],\n",
      "        [8.4707e+05, 1.8774e+05, 1.4812e+05, 1.0000e+00, 1.0000e+00, 2.8805e+06],\n",
      "        [8.4823e+05, 1.8552e+05, 1.4660e+05, 1.0000e+00, 6.0000e+00, 2.8805e+06],\n",
      "        [8.4651e+05, 1.8824e+05, 1.4702e+05, 1.0000e+00, 1.0000e+00, 2.7658e+06],\n",
      "        [8.3581e+05, 1.9549e+05, 1.5377e+05, 1.0000e+00, 9.0000e+00, 2.8815e+06],\n",
      "        [8.4455e+05, 2.0042e+05, 1.5016e+05, 1.0000e+00, 1.0000e+00, 3.0766e+06],\n",
      "        [8.4440e+05, 2.0065e+05, 1.4988e+05, 1.0000e+00, 1.0000e+00, 3.0766e+06],\n",
      "        [8.4562e+05, 1.9391e+05, 1.4998e+05, 0.0000e+00, 1.0000e+00, 2.8805e+06],\n",
      "        [8.3611e+05, 1.9472e+05, 1.5384e+05, 0.0000e+00, 4.0000e+00, 2.8815e+06],\n",
      "        [8.4626e+05, 1.8266e+05, 1.4388e+05, 0.0000e+00, 1.0000e+00, 2.8805e+06]])\n"
     ]
    }
   ],
   "source": [
    "# FlyWire\n",
    "data_point = graph_dataset[0]\n",
    "url = dataset_client.get_url_for_visualization(seg_id=data_point.metadata['seg_id'], error_features=data_point.error_features, voxel_resolution=voxel_resolution, local_host=True)\n",
    "# CA3\n",
    "# url = dataset_client.get_url_for_visualization(seg_id=data_point.metadata['seg_id'], em_data_url=em_data_url_ca3, segmentation_url=segmentation_url_ca3, error_features=data_point.error_features, voxel_resolution=voxel_resolution, local_host=True)\n",
    "print(url)"
   ]
  }
 ],
 "metadata": {
  "kernelspec": {
   "display_name": "test_env",
   "language": "python",
   "name": "python3"
  },
  "language_info": {
   "codemirror_mode": {
    "name": "ipython",
    "version": 3
   },
   "file_extension": ".py",
   "mimetype": "text/x-python",
   "name": "python",
   "nbconvert_exporter": "python",
   "pygments_lexer": "ipython3",
   "version": "3.10.16"
  }
 },
 "nbformat": 4,
 "nbformat_minor": 2
}
